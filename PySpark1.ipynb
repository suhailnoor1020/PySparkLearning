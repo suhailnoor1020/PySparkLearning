{
  "nbformat": 4,
  "nbformat_minor": 0,
  "metadata": {
    "colab": {
      "provenance": [],
      "authorship_tag": "ABX9TyMbNZLpM24nOwOmJ2erM8fD",
      "include_colab_link": true
    },
    "kernelspec": {
      "name": "python3",
      "display_name": "Python 3"
    },
    "language_info": {
      "name": "python"
    }
  },
  "cells": [
    {
      "cell_type": "markdown",
      "metadata": {
        "id": "view-in-github",
        "colab_type": "text"
      },
      "source": [
        "<a href=\"https://colab.research.google.com/github/suhailnoor1020/PySparkLearning/blob/main/PySpark1.ipynb\" target=\"_parent\"><img src=\"https://colab.research.google.com/assets/colab-badge.svg\" alt=\"Open In Colab\"/></a>"
      ]
    },
    {
      "cell_type": "code",
      "execution_count": 2,
      "metadata": {
        "colab": {
          "base_uri": "https://localhost:8080/"
        },
        "id": "lXDzavp9PPVa",
        "outputId": "5c252937-48ec-4db7-de9c-cf610b7cf7da"
      },
      "outputs": [
        {
          "output_type": "stream",
          "name": "stdout",
          "text": [
            "<class 'int'>\n",
            "s\n",
            "h\n",
            "a\n",
            "h\n",
            "e\n",
            "d\n",
            " \n",
            "n\n",
            "o\n",
            "o\n",
            "r\n"
          ]
        }
      ],
      "source": [
        "x = 25\n",
        "print(type(x))\n",
        "\n",
        "\n",
        "for c in \"shahed noor\":\n",
        "  print(c)\n",
        "\n"
      ]
    }
  ]
}